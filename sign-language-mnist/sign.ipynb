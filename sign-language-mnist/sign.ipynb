{
 "cells": [
  {
   "cell_type": "code",
   "execution_count": 2,
   "metadata": {},
   "outputs": [],
   "source": [
    "import pandas as pd\n",
    "import numpy as np\n",
    "import matplotlib.pyplot as plt\n",
    "import seaborn as sns\n",
    "%matplotlib inline"
   ]
  },
  {
   "cell_type": "code",
   "execution_count": 3,
   "metadata": {},
   "outputs": [],
   "source": [
    "train=pd.read_csv('sign_mnist_train.csv')\n",
    "test=pd.read_csv('sign_mnist_test.csv')"
   ]
  },
  {
   "cell_type": "code",
   "execution_count": 4,
   "metadata": {},
   "outputs": [],
   "source": [
    "#Data Exploration"
   ]
  },
  {
   "cell_type": "code",
   "execution_count": 5,
   "metadata": {},
   "outputs": [
    {
     "data": {
      "text/plain": [
       "(27455,)"
      ]
     },
     "execution_count": 5,
     "metadata": {},
     "output_type": "execute_result"
    }
   ],
   "source": [
    "np.unique(train['label'].values)\n",
    "labels=train['label'].values\n",
    "labels.shape"
   ]
  },
  {
   "cell_type": "code",
   "execution_count": 21,
   "metadata": {},
   "outputs": [
    {
     "data": {
      "text/plain": [
       "<matplotlib.axes._subplots.AxesSubplot at 0x1090272e8>"
      ]
     },
     "execution_count": 21,
     "metadata": {},
     "output_type": "execute_result"
    },
    {
     "data": {
      "image/png": "[encoded data removed]",
      "text/plain": [
       "<Figure size 1440x720 with 1 Axes>"
      ]
     },
     "metadata": {},
     "output_type": "display_data"
    }
   ],
   "source": [
    "plt.figure(figsize=(20,10))\n",
    "sns.countplot(train['label'].values)"
   ]
  },
  {
   "cell_type": "code",
   "execution_count": 6,
   "metadata": {},
   "outputs": [],
   "source": [
    "train.drop('label',1,inplace=True)"
   ]
  },
  {
   "cell_type": "code",
   "execution_count": 7,
   "metadata": {},
   "outputs": [],
   "source": [
    "images=train.values\n",
    "images=np.array([np.reshape(i,(28,28)) for i in images])"
   ]
  },
  {
   "cell_type": "code",
   "execution_count": 8,
   "metadata": {},
   "outputs": [
    {
     "data": {
      "text/plain": [
       "(27455, 24)"
      ]
     },
     "execution_count": 8,
     "metadata": {},
     "output_type": "execute_result"
    }
   ],
   "source": [
    "from sklearn.preprocessing import LabelBinarizer\n",
    "label_binarizer=LabelBinarizer()\n",
    "labels=label_binarizer.fit_transform(labels)\n",
    "labels.shape"
   ]
  },
  {
   "cell_type": "code",
   "execution_count": 25,
   "metadata": {},
   "outputs": [
    {
     "data": {
      "text/plain": [
       "<matplotlib.image.AxesImage at 0x1098ccac8>"
      ]
     },
     "execution_count": 25,
     "metadata": {},
     "output_type": "execute_result"
    },
    {
     "data": {
      "image/png": "[encoded data removed]",
      "text/plain": [
       "<Figure size 432x288 with 1 Axes>"
      ]
     },
     "metadata": {},
     "output_type": "display_data"
    }
   ],
   "source": [
    "plt.imshow(images[0])"
   ]
  },
  {
   "cell_type": "code",
   "execution_count": 9,
   "metadata": {},
   "outputs": [],
   "source": [
    "from sklearn.model_selection import train_test_split\n",
    "x_train,x_test,y_train,y_test=train_test_split(images,labels,test_size=0.3,random_state=101)"
   ]
  },
  {
   "cell_type": "code",
   "execution_count": 10,
   "metadata": {},
   "outputs": [
    {
     "name": "stderr",
     "output_type": "stream",
     "text": [
      "/anaconda3/lib/python3.6/site-packages/h5py/__init__.py:36: FutureWarning: Conversion of the second argument of issubdtype from `float` to `np.floating` is deprecated. In future, it will be treated as `np.float64 == np.dtype(float).type`.\n",
      "  from ._conv import register_converters as _register_converters\n",
      "Using TensorFlow backend.\n"
     ]
    }
   ],
   "source": [
    "import keras\n",
    "from keras.models import Sequential\n",
    "from keras.layers import Dense,Conv2D,MaxPooling2D,Flatten,Dropout"
   ]
  },
  {
   "cell_type": "code",
   "execution_count": 11,
   "metadata": {},
   "outputs": [],
   "source": [
    "#normalize\n",
    "x_train=(x_train-np.average(x_train,axis=0))/np.std(x_train,axis=0)"
   ]
  },
  {
   "cell_type": "code",
   "execution_count": 12,
   "metadata": {},
   "outputs": [],
   "source": [
    "x_train=x_train.reshape(x_train.shape[0],28,28,1)\n",
    "x_test=x_test.reshape(x_test.shape[0],28,28,1)"
   ]
  },
  {
   "cell_type": "code",
   "execution_count": 30,
   "metadata": {},
   "outputs": [
    {
     "data": {
      "text/plain": [
       "<matplotlib.image.AxesImage at 0x1a2654ddd8>"
      ]
     },
     "execution_count": 30,
     "metadata": {},
     "output_type": "execute_result"
    },
    {
     "data": {
      "image/png": "[encoded data removed]",
      "text/plain": [
       "<Figure size 432x288 with 1 Axes>"
      ]
     },
     "metadata": {},
     "output_type": "display_data"
    }
   ],
   "source": [
    "plt.imshow(x_train[0].reshape(28,28))"
   ]
  },
  {
   "cell_type": "code",
   "execution_count": 13,
   "metadata": {},
   "outputs": [],
   "source": [
    "num_classes=24"
   ]
  },
  {
   "cell_type": "code",
   "execution_count": 14,
   "metadata": {},
   "outputs": [],
   "source": [
    "model=Sequential()\n",
    "model.add(Conv2D(64,kernel_size=(3,3),activation='relu'))\n",
    "model.add(MaxPooling2D(pool_size=(2,2)))\n",
    "\n",
    "model.add(Conv2D(64,kernel_size=(3,3),activation='relu'))\n",
    "model.add(MaxPooling2D(pool_size=(2,2)))\n",
    "\n",
    "model.add(Conv2D(64,kernel_size=(3,3),activation='relu'))\n",
    "model.add(MaxPooling2D(pool_size=(2,2)))\n",
    "\n",
    "model.add(Flatten())\n",
    "model.add(Dense(128,activation='relu'))\n",
    "model.add(Dropout(0.2))\n",
    "\n",
    "model.add(Dense(num_classes,activation='softmax'))"
   ]
  },
  {
   "cell_type": "code",
   "execution_count": 15,
   "metadata": {},
   "outputs": [
    {
     "name": "stdout",
     "output_type": "stream",
     "text": [
      "Train on 19218 samples, validate on 8237 samples\n",
      "Epoch 1/50\n",
      "19218/19218 [==============================] - 30s 2ms/step - loss: 0.9849 - acc: 0.6894 - val_loss: 6.0488 - val_acc: 0.6047\n",
      "Epoch 2/50\n",
      "19218/19218 [==============================] - 34s 2ms/step - loss: 0.0972 - acc: 0.9696 - val_loss: 5.7762 - val_acc: 0.6289\n",
      "Epoch 3/50\n",
      "19218/19218 [==============================] - 30s 2ms/step - loss: 0.0357 - acc: 0.9901 - val_loss: 7.8456 - val_acc: 0.5031\n",
      "Epoch 4/50\n",
      "19218/19218 [==============================] - 29s 2ms/step - loss: 0.0227 - acc: 0.9937 - val_loss: 6.6977 - val_acc: 0.5730\n",
      "Epoch 5/50\n",
      "19218/19218 [==============================] - 29s 2ms/step - loss: 0.0252 - acc: 0.9928 - val_loss: 3.9817 - val_acc: 0.7409\n",
      "Epoch 6/50\n",
      "19218/19218 [==============================] - 32s 2ms/step - loss: 0.0135 - acc: 0.9960 - val_loss: 4.2989 - val_acc: 0.7219\n",
      "Epoch 7/50\n",
      "19218/19218 [==============================] - 31s 2ms/step - loss: 0.0149 - acc: 0.9951 - val_loss: 3.4819 - val_acc: 0.7739\n",
      "Epoch 8/50\n",
      "19218/19218 [==============================] - 31s 2ms/step - loss: 0.0271 - acc: 0.9920 - val_loss: 4.1945 - val_acc: 0.7306\n",
      "Epoch 9/50\n",
      "19218/19218 [==============================] - 30s 2ms/step - loss: 0.0073 - acc: 0.9981 - val_loss: 2.7674 - val_acc: 0.8201\n",
      "Epoch 10/50\n",
      "19218/19218 [==============================] - 30s 2ms/step - loss: 0.0047 - acc: 0.9990 - val_loss: 3.8343 - val_acc: 0.7537\n",
      "Epoch 11/50\n",
      "19218/19218 [==============================] - 30s 2ms/step - loss: 0.0158 - acc: 0.9955 - val_loss: 1.2447 - val_acc: 0.9182\n",
      "Epoch 12/50\n",
      "19218/19218 [==============================] - 30s 2ms/step - loss: 0.0105 - acc: 0.9971 - val_loss: 5.2300 - val_acc: 0.6667\n",
      "Epoch 13/50\n",
      "19218/19218 [==============================] - 29s 1ms/step - loss: 0.0149 - acc: 0.9950 - val_loss: 2.9520 - val_acc: 0.8096\n",
      "Epoch 14/50\n",
      "19218/19218 [==============================] - 29s 1ms/step - loss: 0.0055 - acc: 0.9983 - val_loss: 1.3485 - val_acc: 0.9113\n",
      "Epoch 15/50\n",
      "19218/19218 [==============================] - 29s 1ms/step - loss: 3.9757e-04 - acc: 0.9999 - val_loss: 0.9681 - val_acc: 0.9359\n",
      "Epoch 16/50\n",
      "19218/19218 [==============================] - 29s 2ms/step - loss: 0.0150 - acc: 0.9958 - val_loss: 2.2736 - val_acc: 0.8541\n",
      "Epoch 17/50\n",
      "19218/19218 [==============================] - 31s 2ms/step - loss: 0.0053 - acc: 0.9984 - val_loss: 2.6276 - val_acc: 0.8314\n",
      "Epoch 18/50\n",
      "19218/19218 [==============================] - 30s 2ms/step - loss: 0.0059 - acc: 0.9979 - val_loss: 2.3155 - val_acc: 0.8520\n",
      "Epoch 19/50\n",
      "19218/19218 [==============================] - 28s 1ms/step - loss: 0.0124 - acc: 0.9968 - val_loss: 5.8855 - val_acc: 0.6295\n",
      "Epoch 20/50\n",
      "19218/19218 [==============================] - 30s 2ms/step - loss: 0.0025 - acc: 0.9994 - val_loss: 1.8429 - val_acc: 0.8811\n",
      "Epoch 21/50\n",
      "19218/19218 [==============================] - 30s 2ms/step - loss: 0.0197 - acc: 0.9946 - val_loss: 1.8011 - val_acc: 0.8849\n",
      "Epoch 22/50\n",
      "19218/19218 [==============================] - 30s 2ms/step - loss: 0.0016 - acc: 0.9996 - val_loss: 2.6237 - val_acc: 0.8316\n",
      "Epoch 23/50\n",
      "19218/19218 [==============================] - 29s 2ms/step - loss: 0.0023 - acc: 0.9991 - val_loss: 5.6115 - val_acc: 0.6439\n",
      "Epoch 24/50\n",
      "19218/19218 [==============================] - 29s 2ms/step - loss: 0.0051 - acc: 0.9990 - val_loss: 1.6969 - val_acc: 0.8917\n",
      "Epoch 25/50\n",
      "19218/19218 [==============================] - 29s 2ms/step - loss: 0.0061 - acc: 0.9982 - val_loss: 2.2857 - val_acc: 0.8536\n",
      "Epoch 26/50\n",
      "19218/19218 [==============================] - 30s 2ms/step - loss: 0.0183 - acc: 0.9953 - val_loss: 0.5250 - val_acc: 0.9648\n",
      "Epoch 27/50\n",
      "19218/19218 [==============================] - 30s 2ms/step - loss: 8.8269e-04 - acc: 0.9998 - val_loss: 0.7470 - val_acc: 0.9518\n",
      "Epoch 28/50\n",
      "19218/19218 [==============================] - 31s 2ms/step - loss: 7.9121e-04 - acc: 0.9998 - val_loss: 0.6260 - val_acc: 0.9595\n",
      "Epoch 29/50\n",
      "19218/19218 [==============================] - 32s 2ms/step - loss: 1.0483e-04 - acc: 1.0000 - val_loss: 0.4181 - val_acc: 0.9727\n",
      "Epoch 30/50\n",
      "19218/19218 [==============================] - 30s 2ms/step - loss: 0.0262 - acc: 0.9940 - val_loss: 2.0792 - val_acc: 0.8674\n",
      "Epoch 31/50\n",
      "19218/19218 [==============================] - 30s 2ms/step - loss: 0.0020 - acc: 0.9993 - val_loss: 3.3756 - val_acc: 0.7843\n",
      "Epoch 32/50\n",
      "19218/19218 [==============================] - 29s 2ms/step - loss: 8.8499e-04 - acc: 0.9996 - val_loss: 1.6482 - val_acc: 0.8941\n",
      "Epoch 33/50\n",
      "19218/19218 [==============================] - 31s 2ms/step - loss: 0.0117 - acc: 0.9968 - val_loss: 0.7368 - val_acc: 0.9530\n",
      "Epoch 34/50\n",
      "19218/19218 [==============================] - 28s 1ms/step - loss: 0.0042 - acc: 0.9989 - val_loss: 1.2273 - val_acc: 0.9215\n",
      "Epoch 35/50\n",
      "19218/19218 [==============================] - 28s 1ms/step - loss: 0.0050 - acc: 0.9986 - val_loss: 2.2000 - val_acc: 0.8580\n",
      "Epoch 36/50\n",
      "19218/19218 [==============================] - 29s 1ms/step - loss: 0.0083 - acc: 0.9982 - val_loss: 1.9113 - val_acc: 0.8763\n",
      "Epoch 37/50\n",
      "19218/19218 [==============================] - 29s 2ms/step - loss: 1.2386e-04 - acc: 1.0000 - val_loss: 1.3352 - val_acc: 0.9144\n",
      "Epoch 38/50\n",
      "19218/19218 [==============================] - 30s 2ms/step - loss: 0.0104 - acc: 0.9970 - val_loss: 1.4952 - val_acc: 0.9048\n",
      "Epoch 39/50\n",
      "19218/19218 [==============================] - 29s 2ms/step - loss: 0.0032 - acc: 0.9995 - val_loss: 0.8513 - val_acc: 0.9448\n",
      "Epoch 40/50\n",
      "19218/19218 [==============================] - 28s 1ms/step - loss: 0.0041 - acc: 0.9991 - val_loss: 1.4793 - val_acc: 0.9051\n",
      "Epoch 41/50\n",
      "19218/19218 [==============================] - 29s 2ms/step - loss: 0.0217 - acc: 0.9954 - val_loss: 1.6368 - val_acc: 0.8963\n",
      "Epoch 42/50\n",
      "19218/19218 [==============================] - 29s 2ms/step - loss: 0.0012 - acc: 0.9996 - val_loss: 1.4484 - val_acc: 0.9069\n",
      "Epoch 43/50\n",
      "19218/19218 [==============================] - 28s 1ms/step - loss: 3.2312e-04 - acc: 0.9999 - val_loss: 1.6107 - val_acc: 0.8974\n",
      "Epoch 44/50\n",
      "19218/19218 [==============================] - 30s 2ms/step - loss: 8.2027e-05 - acc: 1.0000 - val_loss: 1.2545 - val_acc: 0.9196\n",
      "Epoch 45/50\n",
      "19218/19218 [==============================] - 28s 1ms/step - loss: 4.3792e-04 - acc: 0.9999 - val_loss: 1.8262 - val_acc: 0.8842\n",
      "Epoch 46/50\n",
      "19218/19218 [==============================] - 29s 1ms/step - loss: 0.0261 - acc: 0.9946 - val_loss: 3.2329 - val_acc: 0.7963\n",
      "Epoch 47/50\n",
      "19218/19218 [==============================] - 29s 1ms/step - loss: 0.0054 - acc: 0.9987 - val_loss: 2.2863 - val_acc: 0.8550\n",
      "Epoch 48/50\n",
      "19218/19218 [==============================] - 30s 2ms/step - loss: 0.0049 - acc: 0.9988 - val_loss: 0.5923 - val_acc: 0.9615\n",
      "Epoch 49/50\n",
      "19218/19218 [==============================] - 31s 2ms/step - loss: 0.0039 - acc: 0.9990 - val_loss: 3.8802 - val_acc: 0.7555\n",
      "Epoch 50/50\n",
      "19218/19218 [==============================] - 30s 2ms/step - loss: 0.0045 - acc: 0.9987 - val_loss: 3.2331 - val_acc: 0.7952\n"
     ]
    }
   ],
   "source": [
    "model.compile(optimizer=keras.optimizers.adam(),loss=keras.losses.categorical_crossentropy,metrics=['accuracy'])\n",
    "history=model.fit(x_train,y_train,epochs=50,batch_size=32,validation_data=(x_test,y_test))"
   ]
  },
  {
   "cell_type": "code",
   "execution_count": 16,
   "metadata": {},
   "outputs": [
    {
     "data": {
      "image/png": "[encoded data removed]",
      "text/plain": [
       "<Figure size 432x288 with 1 Axes>"
      ]
     },
     "metadata": {},
     "output_type": "display_data"
    }
   ],
   "source": [
    "plt.plot(history.history['acc'])\n",
    "plt.plot(history.history['val_acc'])\n",
    "plt.title(\"Accuracy\")\n",
    "plt.xlabel('epoch')\n",
    "plt.ylabel('accuracy')\n",
    "plt.legend(['train','test'])\n",
    "plt.show()"
   ]
  },
  {
   "cell_type": "code",
   "execution_count": 69,
   "metadata": {},
   "outputs": [
    {
     "data": {
      "text/plain": [
       "(7172, 28, 28, 1)"
      ]
     },
     "execution_count": 69,
     "metadata": {},
     "output_type": "execute_result"
    }
   ],
   "source": [
    "# test_labels = test['label']\n",
    "# test.drop('label', axis = 1, inplace = True)\n",
    "test_images = test.values\n",
    "test_images = np.array([np.reshape(i, (28, 28)) for i in test_images])\n",
    "test_images = np.array([i.flatten() for i in test_images])\n",
    "test_labels = label_binarizer.fit_transform(test_labels)\n",
    "test_images = test_images.reshape(test_images.shape[0], 28, 28, 1)\n",
    "test_images.shape"
   ]
  },
  {
   "cell_type": "code",
   "execution_count": 71,
   "metadata": {},
   "outputs": [
    {
     "data": {
      "text/plain": [
       "0.852760736196319"
      ]
     },
     "execution_count": 71,
     "metadata": {},
     "output_type": "execute_result"
    }
   ],
   "source": [
    "y_pred = model.predict(test_images)\n",
    "from sklearn.metrics import accuracy_score\n",
    "accuracy_score(test_labels, y_pred.round())"
   ]
  },
  {
   "cell_type": "code",
   "execution_count": 18,
   "metadata": {},
   "outputs": [],
   "source": [
    "from PIL import Image"
   ]
  },
  {
   "cell_type": "code",
   "execution_count": 36,
   "metadata": {},
   "outputs": [
    {
     "data": {
      "text/plain": [
       "(126, 198)"
      ]
     },
     "execution_count": 36,
     "metadata": {},
     "output_type": "execute_result"
    }
   ],
   "source": [
    "img=Image.open('A.png').convert('L')\n",
    "img.size"
   ]
  },
  {
   "cell_type": "code",
   "execution_count": 37,
   "metadata": {},
   "outputs": [],
   "source": [
    "img=img.resize((28,28),Image.ANTIALIAS)"
   ]
  },
  {
   "cell_type": "code",
   "execution_count": 38,
   "metadata": {},
   "outputs": [
    {
     "data": {
      "text/plain": [
       "(1, 28, 28, 1)"
      ]
     },
     "execution_count": 38,
     "metadata": {},
     "output_type": "execute_result"
    }
   ],
   "source": [
    "img=np.array(img).reshape(1,28,28,1)\n",
    "img.shape"
   ]
  },
  {
   "cell_type": "code",
   "execution_count": 39,
   "metadata": {},
   "outputs": [
    {
     "data": {
      "text/plain": [
       "array([[0., 0., 0., 0., 0., 0., 0., 1., 0., 0., 0., 0., 0., 0., 0., 0.,\n",
       "        0., 0., 0., 0., 0., 0., 0., 0.]], dtype=float32)"
      ]
     },
     "execution_count": 39,
     "metadata": {},
     "output_type": "execute_result"
    }
   ],
   "source": [
    "model.predict(img)"
   ]
  },
  {
   "cell_type": "code",
   "execution_count": 67,
   "metadata": {},
   "outputs": [
    {
     "data": {
      "text/plain": [
       "<matplotlib.image.AxesImage at 0x1a12f1f780>"
      ]
     },
     "execution_count": 67,
     "metadata": {},
     "output_type": "execute_result"
    },
    {
     "data": {
      "image/png": "[encoded data removed]",
      "text/plain": [
       "<Figure size 432x288 with 1 Axes>"
      ]
     },
     "metadata": {},
     "output_type": "display_data"
    }
   ],
   "source": [
    "plt.imshow(test[test['label']==10].drop('label',1).values[0][:].reshape(28,28))"
   ]
  },
  {
   "cell_type": "code",
   "execution_count": null,
   "metadata": {},
   "outputs": [],
   "source": []
  }
 ],
 "metadata": {
  "kernelspec": {
   "display_name": "Python 3",
   "language": "python",
   "name": "python3"
  },
  "language_info": {
   "codemirror_mode": {
    "name": "ipython",
    "version": 3
   },
   "file_extension": ".py",
   "mimetype": "text/x-python",
   "name": "python",
   "nbconvert_exporter": "python",
   "pygments_lexer": "ipython3",
   "version": "3.6.5"
  }
 },
 "nbformat": 4,
 "nbformat_minor": 2
}
