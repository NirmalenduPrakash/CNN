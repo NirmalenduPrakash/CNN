{
 "cells": [
  {
   "cell_type": "code",
   "execution_count": 1,
   "metadata": {},
   "outputs": [],
   "source": [
    "import numpy as np"
   ]
  },
  {
   "cell_type": "code",
   "execution_count": 10,
   "metadata": {},
   "outputs": [],
   "source": [
    "def convForward(A_prev,hyperparameters):\n",
    "    (m,n_H,n_W,n_C)=A_prev.shape\n",
    "    (f,f,n_F)=W.shape\n",
    "    W=hyperparameters('W')\n",
    "    b=hyperparameters('b')\n",
    "    f=hyperparameters('f')\n",
    "    s=hyperparameters('s')\n",
    "    \n",
    "    Z=np.zeros(m,((n_H-f)/s)+1,((n_W-f)/s)+1,n_F)\n",
    "    for i in range(m):\n",
    "        for h in range(n_H):\n",
    "            for w in range(n_W):\n",
    "                for c in range(n_F):\n",
    "                    a_slice=A_prev[i,h:h+f,w:w+f,:]\n",
    "                    Z[i,h,w,c]=conv(a_slice,W,b)\n",
    "    A=relu(Z)\n",
    "    cache=(A)"
   ]
  },
  {
   "cell_type": "code",
   "execution_count": 11,
   "metadata": {},
   "outputs": [],
   "source": [
    "def conv(a_slice,w,b):\n",
    "    return np.sum(np.multiply(a_slice,w))+b"
   ]
  },
  {
   "cell_type": "code",
   "execution_count": 4,
   "metadata": {},
   "outputs": [],
   "source": [
    "def relu(Z):\n",
    "    return np.max(Z,0)"
   ]
  },
  {
   "cell_type": "code",
   "execution_count": 15,
   "metadata": {},
   "outputs": [],
   "source": [
    "def sigmoid(z):\n",
    "    return(1/(1+np.exp(-z)))"
   ]
  },
  {
   "cell_type": "code",
   "execution_count": 7,
   "metadata": {},
   "outputs": [],
   "source": [
    "def forwardPool(A_prev,hyperparameters,mode='max'):\n",
    "    f=hyperparameters('f')\n",
    "    s=hyperparameters('s')\n",
    "    \n",
    "    (m,n_H,n_W,n_C)=A_prev.shape\n",
    "    A=np.zeros(m,((n_H-f)/s)+1,((n_W-f)/s)+1,n_C)\n",
    "    for i in range(m):\n",
    "        for h in range(n_H):\n",
    "            for w in range(n_W):\n",
    "                for c in range(n_C):\n",
    "                    a_slice=A_prev[i,h:h+f,w:w+f,c]\n",
    "                    if(mode=='max'):\n",
    "                        A[i,h,w,c]=np.max(a_slice)\n",
    "                    elif(mode=='average'):\n",
    "                        A[i,h,w,c]=np.average(a_slice)\n",
    "    return A                    "
   ]
  },
  {
   "cell_type": "code",
   "execution_count": 9,
   "metadata": {},
   "outputs": [],
   "source": [
    "def poolBackward(dA,cache,hyperparameters,mode='max'):\n",
    "    A_prev=cache('A_prev')\n",
    "    s=hyperparameters['s']\n",
    "    f=hyperparameters['f']\n",
    "    \n",
    "    (m,n_H,n_W,n_C)=A_prev.shape\n",
    "    for i in range(m):\n",
    "        for h in range(n_H):\n",
    "            for w in range(n_W):\n",
    "                for c in range(n_C):\n",
    "                    a_slice=A_prev[i,h:h+f,w:w+f,c]\n",
    "                    if(mode=='max'):\n",
    "                        a_slice-=(a_slice==np.max(a_slice))*dA[i,h,w,c]\n",
    "                    elif(mode=='average'):\n",
    "                        a_slice-=dA[i,h,w,c]/(f*f)\n",
    "    return A_prev                   "
   ]
  },
  {
   "cell_type": "code",
   "execution_count": 13,
   "metadata": {},
   "outputs": [],
   "source": [
    "def convBackward(dZ,cache):\n",
    "    (A_prev,W,b)=cache\n",
    "    (m,n_H,n_W,n_C)=A_prev.shape\n",
    "    \n",
    "    dA_prev=np.zeros(m,n_H,n_W,n_C)\n",
    "    dW=np.zeros(W.shape)\n",
    "    for i in range(m):\n",
    "        for h in range(n_H):\n",
    "            for w in range(n_W):\n",
    "                for c in range(n_C):\n",
    "                    a_slice=A_prev[i,h:h+f,w:w+f,c]\n",
    "                    dA_prev[i,h:h+f,w:w+f,:]-=W*dz[i,h,w,c]\n",
    "                    dW-=A_prev[i,h:h+f,w:w+f,:]*dz[i,h,w,c]\n",
    "    db=np.sum(dz)  \n",
    "    return (dA_prev,dW,db)"
   ]
  },
  {
   "cell_type": "code",
   "execution_count": 14,
   "metadata": {},
   "outputs": [],
   "source": [
    "def FCForward(A_prev,hyperparameters):\n",
    "    W=hyperparameters('W')\n",
    "    b=hyperparameters('b')\n",
    "    Z=A_prev.dot(W)+b\n",
    "    A=relu(Z)\n",
    "    cache=A\n",
    "    return A"
   ]
  },
  {
   "cell_type": "code",
   "execution_count": 17,
   "metadata": {},
   "outputs": [],
   "source": [
    "def FCBackward(dA,cache,activation='relu'):\n",
    "    (A_prev,W,b)=cache\n",
    "    Z=A_prev.dot(W)+b\n",
    "    if(activation=='relu'):        \n",
    "        dW=(Z[Z>0]*dA).T.dot(A_prev.T)\n",
    "        dA_prev=(dA*Z[Z>0]).dot(W.T)\n",
    "    elif(activation=='sigmoid'):\n",
    "        dW=(dA*sigmoid(Z)*(1-sigmoid(Z))).T.dot(A_prev.T)\n",
    "        dA_prev=(dA*sigmoid(Z)*(1-sigmoid(Z))).dot(W.T)\n",
    "    return dA_prev,dW    "
   ]
  },
  {
   "cell_type": "code",
   "execution_count": null,
   "metadata": {},
   "outputs": [],
   "source": []
  }
 ],
 "metadata": {
  "kernelspec": {
   "display_name": "Python 3",
   "language": "python",
   "name": "python3"
  },
  "language_info": {
   "codemirror_mode": {
    "name": "ipython",
    "version": 3
   },
   "file_extension": ".py",
   "mimetype": "text/x-python",
   "name": "python",
   "nbconvert_exporter": "python",
   "pygments_lexer": "ipython3",
   "version": "3.6.5"
  }
 },
 "nbformat": 4,
 "nbformat_minor": 2
}
